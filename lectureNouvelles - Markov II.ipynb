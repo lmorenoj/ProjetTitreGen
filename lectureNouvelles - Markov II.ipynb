{
 "cells": [
  {
   "cell_type": "code",
   "execution_count": 1,
   "id": "bc2820b4",
   "metadata": {},
   "outputs": [
    {
     "name": "stderr",
     "output_type": "stream",
     "text": [
      "/home/luis/anaconda3/envs/titleProject/lib/python3.9/site-packages/spacy/util.py:910: UserWarning: [W095] Model 'fr_core_news_md' (3.1.0) was trained with spaCy v3.1.0 and may not be 100% compatible with the current version (3.7.2). If you see errors or degraded performance, download a newer compatible model or retrain your custom model with the current spaCy version. For more details and available updates, run: python -m spacy validate\n",
      "  warnings.warn(warn_msg)\n"
     ]
    }
   ],
   "source": [
    "import spacy\n",
    "import numpy as np\n",
    "import re, string\n",
    "import matplotlib.pyplot as plt\n",
    "import random as rd\n",
    "from math import sqrt\n",
    "import operator\n",
    "import re\n",
    "import json\n",
    "import skfuzzy as fuzz\n",
    "from scipy import stats\n",
    "import pandas as pd\n",
    "pd.set_option(\"display.max_rows\", 600)\n",
    "from sklearn.feature_extraction.text import TfidfVectorizer\n",
    "from sklearn.feature_extraction.text import CountVectorizer\n",
    "from pathlib import Path\n",
    "from nltk.corpus import stopwords\n",
    "from nltk.tokenize import word_tokenize\n",
    "from scipy.spatial import distance\n",
    "import fr_core_news_md\n",
    "nlp = spacy.load('fr_core_news_md')"
   ]
  },
  {
   "cell_type": "code",
   "execution_count": 2,
   "id": "e09efc22",
   "metadata": {},
   "outputs": [],
   "source": [
    "def triangleFunction(points, xrange):\n",
    "    values = {}\n",
    "    for k, v in xrange:\n",
    "        if v <= points['a']:\n",
    "            values[k]=0\n",
    "        elif (v >= points['a'] and v <= points['b']):\n",
    "            values[k]=(v-points['a'])/(points['b'] - points['a'])\n",
    "        elif v >= points['b'] and v <= points['c']:\n",
    "            values[k]=(points['c']-v)/(points['c'] - points['b'])\n",
    "        elif v >= points['c']:\n",
    "            values[k]=0\n",
    "    return values\n",
    "pass\n",
    "\n",
    "def linearFunction(points, xrange):\n",
    "    values = {}    \n",
    "    for k, v in xrange:\n",
    "        if v<points['a']:\n",
    "            values[k]=0\n",
    "        elif (v>=points['a'] and v<points['b']):\n",
    "            values[k]=(v-points['a'])/(points['b'] - points['a'])\n",
    "        elif v>=points['b']:\n",
    "            values[k]=1\n",
    "    return values\n",
    "pass"
   ]
  },
  {
   "cell_type": "code",
   "execution_count": 3,
   "id": "4d03feb4",
   "metadata": {},
   "outputs": [],
   "source": [
    "def getAxisValues(axis,stepSize):\n",
    "    return np.arange(axis['xmin'], axis['xmax'], stepSize)\n",
    "pass"
   ]
  },
  {
   "cell_type": "code",
   "execution_count": 4,
   "id": "73cbc538",
   "metadata": {},
   "outputs": [],
   "source": [
    "def getTokens(_sentences, opc, isArray):\n",
    "    tokens=[]\n",
    "    if isArray:\n",
    "        for sentence in _sentences:\n",
    "            words=nlp(sentence) #filtre_stopfr(word_tokenize(sentence, language=\"french\"))\n",
    "            for word in words:\n",
    "                if opc==1 and len(word.text) > 1 and word.lemma_ not in tokens and word.is_stop is False:\n",
    "                    tokens.append(word.lemma_)\n",
    "                elif opc==2 and len(word.text) > 1 and word.lower_ not in tokens and word.is_stop is False:\n",
    "                    tokens.append(word.lower_)\n",
    "                elif opc==3 and len(word.text) > 1 and word.is_stop is False:\n",
    "                    tokens.append(word.lower_)\n",
    "    else:\n",
    "        words=nlp(_sentences)\n",
    "        for word in words:\n",
    "            if opc and len(word.text) > 1 and word.lemma_ not in tokens and word.is_stop is False:\n",
    "                tokens.append(word.lemma_)\n",
    "            elif not opc and len(word.lower_) > 1 and word.lower_ not in tokens and word.is_stop is False:\n",
    "                tokens.append(word.lower_)\n",
    "    return tokens"
   ]
  },
  {
   "cell_type": "code",
   "execution_count": 5,
   "id": "37a5c227",
   "metadata": {},
   "outputs": [],
   "source": [
    "def normalize(arr,t_min,t_max):\n",
    "    norm_arr = arr\n",
    "    #norm_arr_2 = []\n",
    "    v_max = v_min = arr[0][0]\n",
    "    for v in arr: \n",
    "        if(v_max < max(v)): v_max = max(v) \n",
    "        if(v_min > min(v)): v_min = min(v)\n",
    "    diff_arr = v_max - v_min\n",
    "    diff = t_max - t_min\n",
    "    \n",
    "    for l in range(len(arr)):\n",
    "        for i in range(len(arr[l])):\n",
    "            temp = (((arr[l][i] - v_min)*diff)/diff_arr) + t_min\n",
    "            norm_arr[l][i]=temp\n",
    "            #norm_arr_2.append(temp)\n",
    "        #norm_arr.append(norm_arr_2)\n",
    "    return norm_arr"
   ]
  },
  {
   "cell_type": "code",
   "execution_count": 6,
   "id": "6fdca365",
   "metadata": {},
   "outputs": [],
   "source": [
    "def getMatrix(_tokens, _rows, lemmatize):\n",
    "    matrix = np.zeros((len(_rows),len(_tokens)))\n",
    "    f = 0\n",
    "    for l in _rows:\n",
    "        c = 0\n",
    "        words = getTokens(l,lemmatize, False)\n",
    "        for token in _tokens:\n",
    "            if token in words : matrix[f][c]=1\n",
    "            c+=1\n",
    "        f+=1\n",
    "    matrixT = matrix.transpose()\n",
    "    producto_M = matrix.dot(matrixT)\n",
    "    #MatrixE = np.linalg.matrix_power(producto_M,2)\n",
    "    return normalize(producto_M,0,1)"
   ]
  },
  {
   "cell_type": "code",
   "execution_count": 7,
   "id": "e776070a",
   "metadata": {},
   "outputs": [],
   "source": [
    "def getMatrixTfidf(_tokens, _rows, lemmatize):\n",
    "    matrix = np.zeros((len(_rows),len(_tokens)))\n",
    "    f = 0\n",
    "    for l in _rows:\n",
    "        c = 0\n",
    "        words = getTokens(l,lemmatize, False)\n",
    "        for token in _tokens:\n",
    "            if token in words :\n",
    "                try:\n",
    "                    matrix[f][c]=tfidf_df[token]['20081219_xinhuanet_fr_f090592976aaaf013cdc254f70319116']\n",
    "                except:\n",
    "                    matrix[f][c]=0\n",
    "            c+=1\n",
    "        f+=1\n",
    "    matrixT = matrix.transpose()\n",
    "    producto_M = matrix.dot(matrixT)\n",
    "    #MatrixE = np.linalg.matrix_power(producto_M,2)\n",
    "    return normalize(producto_M,0,1)"
   ]
  },
  {
   "cell_type": "code",
   "execution_count": 8,
   "id": "ee7461f6",
   "metadata": {},
   "outputs": [],
   "source": [
    "def textualEnergy(_MatrixCurrent, _curr_index):\n",
    "    vSum=0\n",
    "    for l in _MatrixCurrent:\n",
    "        vSum+=sum(l)\n",
    "    vAvg=vSum/len(_MatrixCurrent)\n",
    "    if (sum(_MatrixCurrent[_curr_index]) > vAvg): return True\n",
    "    else: return False"
   ]
  },
  {
   "cell_type": "code",
   "execution_count": 9,
   "id": "67b192dc",
   "metadata": {},
   "outputs": [],
   "source": [
    "def getIndex(self_current_row):\n",
    "    m_trie=sorted(self_current_row, reverse=1)\n",
    "    for ite in m_trie:\n",
    "        curr_index_list = np.where(self_current_row == ite)\n",
    "        #print(self_current_row,ite,curr_index_list,'-----------')\n",
    "        for curr_index in curr_index_list[0]:\n",
    "            if MatrixCurrent[curr_index] is not self_current_row and curr_index not in list_used:\n",
    "                if textualEnergy(MatrixCurrent,curr_index):\n",
    "                    #print(curr_index, list(lemmas.keys())[curr_index])\n",
    "                    return int(curr_index)"
   ]
  },
  {
   "cell_type": "code",
   "execution_count": 10,
   "id": "3eff3282",
   "metadata": {},
   "outputs": [],
   "source": [
    "def cleanSentences(o_sentences):\n",
    "    s_sentences={}\n",
    "    contador=0\n",
    "    for sentence in o_sentences:        \n",
    "        if 0<len(sentence.split())<100: s_sentences[contador] = sentence\n",
    "        contador+=1\n",
    "    return s_sentences"
   ]
  },
  {
   "cell_type": "code",
   "execution_count": 11,
   "id": "9c8118fd",
   "metadata": {},
   "outputs": [],
   "source": [
    "def openCorpus(pathJason, idNews):\n",
    "    pathCorpus = \"/media/luis/respaldo/corpora/french-docs/\"\n",
    "    #Reading Jason with all information about corpus\n",
    "    with open(pathCorpus+pathJason, \"r\") as file:\n",
    "        data = json.load(file)\n",
    "    #Reading name's file of news\n",
    "    articles=[]\n",
    "    articles2=[]\n",
    "    for key in data :\n",
    "        articles.append(data[key]['document_path'])\n",
    "        articles2.append(pathCorpus+data[key]['document_path'])\n",
    "    #Reading the selected news\n",
    "    news = open(pathCorpus+articles[idNews],'r').readlines()\n",
    "    #Extracting paragraphs\n",
    "    reg_str = \"<p>(.*?)</p>\"\n",
    "    #news[1] ignoring the first element of the list, usually the title\n",
    "    #[0] is to get directly the only element in list in str format\n",
    "    filteredText = re.findall(reg_str, news[1])[0].replace('\\\\','')\n",
    "    segmentedSent = nlp(filteredText)\n",
    "    assert segmentedSent.has_annotation(\"SENT_START\")\n",
    "    vectorSent=[]\n",
    "    for sent in segmentedSent.sents:\n",
    "        vectorSent.append(sent.text)\n",
    "    #Formatting into a dictionary of sentences\n",
    "    return cleanSentences(vectorSent), calculateTfidf(articles2)"
   ]
  },
  {
   "cell_type": "code",
   "execution_count": 12,
   "id": "1fcbf7c9",
   "metadata": {},
   "outputs": [],
   "source": [
    "def calculateTfidf(_articles):\n",
    "    text_titles = [Path(text).stem for text in _articles]\n",
    "    tfidf_vectorizer = TfidfVectorizer(input='filename', stop_words=stopwords.words('french'))\n",
    "    tfidf_vector = tfidf_vectorizer.fit_transform(_articles)\n",
    "    return pd.DataFrame(tfidf_vector.toarray(), index=text_titles, columns=tfidf_vectorizer.get_feature_names_out())\n",
    "    "
   ]
  },
  {
   "cell_type": "code",
   "execution_count": 13,
   "id": "ce9da39e",
   "metadata": {},
   "outputs": [],
   "source": [
    "#Looking for news in position 0\n",
    "#Lemma 1 : lemmes unique = ; 2 = lower case  unique; 3 = lower case\n",
    "lemma = 1\n",
    "dictSentences, tfidf_df = openCorpus(\"french-docs.json\", 0)\n",
    "tokens =  getTokens(dictSentences.values(),lemma, True)"
   ]
  },
  {
   "cell_type": "code",
   "execution_count": 14,
   "id": "7864ae0d",
   "metadata": {},
   "outputs": [],
   "source": [
    "MatrixVocab = getMatrix(tokens, dictSentences.values(), lemma)"
   ]
  },
  {
   "cell_type": "code",
   "execution_count": 15,
   "id": "3e2a51dd",
   "metadata": {
    "scrolled": true
   },
   "outputs": [],
   "source": [
    "MatrixVocabTF = getMatrixTfidf(tokens, dictSentences.values(), lemma)"
   ]
  },
  {
   "cell_type": "code",
   "execution_count": 16,
   "id": "3ad3760a",
   "metadata": {},
   "outputs": [
    {
     "data": {
      "image/png": "[encoded data removed]",
      "text/plain": [
       "<Figure size 640x480 with 2 Axes>"
      ]
     },
     "metadata": {},
     "output_type": "display_data"
    }
   ],
   "source": [
    "figure = plt.figure()\n",
    "axes = figure.add_subplot(111)\n",
    "caxes = axes.matshow(MatrixVocab, interpolation ='nearest')\n",
    "figure.colorbar(caxes)\n",
    "plt.show()"
   ]
  },
  {
   "cell_type": "code",
   "execution_count": 17,
   "id": "7ebe787d",
   "metadata": {},
   "outputs": [
    {
     "data": {
      "image/png": "[encoded data removed]",
      "text/plain": [
       "<Figure size 640x480 with 2 Axes>"
      ]
     },
     "metadata": {},
     "output_type": "display_data"
    }
   ],
   "source": [
    "figure = plt.figure()\n",
    "axes = figure.add_subplot(111)\n",
    "caxes = axes.matshow(MatrixVocabTF, interpolation ='nearest')\n",
    "figure.colorbar(caxes)\n",
    "plt.show()"
   ]
  },
  {
   "cell_type": "code",
   "execution_count": 18,
   "id": "f271d7db",
   "metadata": {},
   "outputs": [
    {
     "data": {
      "image/png": "[encoded data removed]",
      "text/plain": [
       "<Figure size 640x480 with 1 Axes>"
      ]
     },
     "metadata": {},
     "output_type": "display_data"
    }
   ],
   "source": [
    "i=3\n",
    "plt.plot(MatrixVocabTF[i],'r')\n",
    "plt.ylabel(\"characteristics\")\n",
    "plt.xlabel(\"Combined elements\")\n",
    "plt.show()\n",
    "#We observe that the sentence with more energy is positioned on index 3.\n",
    "#The sentansces closest are on index: 1, 6"
   ]
  },
  {
   "cell_type": "code",
   "execution_count": 19,
   "id": "7fe71a09",
   "metadata": {},
   "outputs": [],
   "source": [
    "fuzzyVector = []\n",
    "for sent in MatrixVocabTF:\n",
    "    fuzzyVector.append(sum(sent))\n",
    "fuzzyVector = dict(zip(dictSentences.keys(), fuzzyVector))\n",
    "# Setting a domain field.\n",
    "vMin = min(fuzzyVector.values())\n",
    "vMax = max(fuzzyVector.values())\n",
    "vMean = np.median(list(fuzzyVector.values()))\n",
    "xaxis = { 'xmin':vMin, 'xmax':vMax}\n",
    "\n",
    "# Creating the values for the domain of all our membership functions.\n",
    "xrange = getAxisValues(xaxis, 0.5)"
   ]
  },
  {
   "cell_type": "code",
   "execution_count": 20,
   "id": "8956fbdd",
   "metadata": {
    "scrolled": true
   },
   "outputs": [
    {
     "data": {
      "image/png": "[encoded data removed]",
      "text/plain": [
       "<Figure size 1000x600 with 2 Axes>"
      ]
     },
     "metadata": {},
     "output_type": "display_data"
    }
   ],
   "source": [
    "sortedValues = dict(sorted(fuzzyVector.items(), key=lambda item: item[1]))\n",
    "\n",
    "linearPoints = {'a':vMin,  'b': vMax}\n",
    "linearFunctionV = linearFunction(linearPoints, sortedValues.items())\n",
    "\n",
    "trianglePoints = {'a':vMin,  'b': vMean , 'c': vMax}\n",
    "triangleFunctionV = triangleFunction(trianglePoints, sortedValues.items())\n",
    "\n",
    "fig, axs = plt.subplots(1, 2, figsize=(10, 6), sharey=True)\n",
    "axs[0].plot(sortedValues.values(), triangleFunctionV.values(), 'blue' )\n",
    "axs[1].plot(sortedValues.values(), linearFunctionV.values(), 'gold' )\n",
    "axs[0].title.set_text('Triangle')\n",
    "axs[1].title.set_text('Linear')\n",
    "\n",
    "# Setting the main title\n",
    "plt.suptitle('Membership functions')\n",
    "\n",
    "# Show us what you got!\n",
    "plt.show()"
   ]
  },
  {
   "cell_type": "code",
   "execution_count": 21,
   "id": "59e759d8",
   "metadata": {},
   "outputs": [
    {
     "name": "stdout",
     "output_type": "stream",
     "text": [
      "keys words = \n",
      "liée OMS [Selon, l']\n",
      "liée visite [la, Dr]\n",
      "visite Dr [du, Sambo]\n",
      "Dr Sambo []\n",
      "liée liée [OMS, ,, visite, est, éruption, ,, signalé, .]\n",
      "liée éruption [à, l', choléra, Zimbabwe, implications]\n",
      "éruption choléra [de]\n",
      "éruption Zimbabwe [au]\n",
      "éruption implications [et, à, ses, régionales]\n",
      "étant donné []\n",
      "signalé Afrique [l', Sud, Botswana]\n",
      "Afrique Sud [du]\n",
      "Afrique Botswana [et, le]\n",
      "liée signalé [étant, que, Afrique, ont, cas]\n",
      "signalé cas [des, choléra]\n",
      "cas choléra [de]\n",
      "[Selon, 'OMS', la, 'visite', du, 'Dr', '', 'Sambo', OMS, 'liée', à, 'éruption', de, 'choléra', au, 'Zimbabwe', et, 'implications', '', 'donné', l', 'Afrique', du, 'Sud', et, 'Botswana', étant, 'signalé', des, 'cas', de, 'choléra']\n"
     ]
    }
   ],
   "source": [
    "#list to store the tokens and pos tags\n",
    "idSentence=max(linearFunctionV, key=linearFunctionV.get)\n",
    "sentence = nlp(dictSentences.get(idSentence))\n",
    "p=[]\n",
    "print(\"keys words = \")\n",
    "for word in sentence:\n",
    "    if word.pos_ in ['NOUN','PROPN','VERB'] and not word.is_stop:\n",
    "        child = \"\"\n",
    "        if len(list(word.children)) > 0: child = list(word.children)[0]\n",
    "        if len(p) > 0:\n",
    "            if p[-1] is not child : p.append(child)\n",
    "            p.append(word.text)\n",
    "        else: \n",
    "            p.append(child)\n",
    "            p.append(word.text)\n",
    "        print(word.head.text, word.text, [child for child in word.children])\n",
    "print(p)"
   ]
  },
  {
   "cell_type": "code",
   "execution_count": 22,
   "id": "fc50f476",
   "metadata": {},
   "outputs": [
    {
     "name": "stdout",
     "output_type": "stream",
     "text": [
      "keys words = \n",
      "Selon ADP -- l' DET -- OMS PROPN -- , PUNCT -- la DET -- visite NOUN -- du ADP -- Dr NOUN -- Sambo PROPN -- est AUX -- liée VERB -- à ADP -- l' DET -- éruption NOUN -- de ADP -- choléra NOUN -- au ADP -- Zimbabwe PROPN -- et CCONJ -- à ADP -- ses DET -- implications NOUN -- régionales ADJ -- , PUNCT -- étant VERB -- donné VERB -- que SCONJ -- l' DET -- Afrique PROPN -- du ADP -- Sud PROPN -- et CCONJ -- le DET -- Botswana PROPN -- ont AUX -- signalé VERB -- des DET -- cas NOUN -- de ADP -- choléra NOUN -- . PUNCT -- "
     ]
    }
   ],
   "source": [
    "#list to store the tokens and pos tags\n",
    "idSentence=max(linearFunctionV, key=linearFunctionV.get)\n",
    "sentence = nlp(dictSentences.get(idSentence))\n",
    "p=[]\n",
    "print(\"keys words = \")\n",
    "for word in sentence:\n",
    "    #if word.pos_ in ['NOUN']:\n",
    "    print(word.text, word.pos_, end=\" -- \")\n",
    "        \n",
    "        #child = \"\"\n",
    "        #if len(list(word.children)) > 0: child = list(word.children)[0]\n",
    "        #if len(p) > 0:\n",
    "        #    if p[-1] is not child : p.append(child)\n",
    "        #    p.append(word.text)\n",
    "        #else: \n",
    "        #    p.append(child)\n",
    "        #    p.append(word.text)\n",
    "        #print(word.head.text, word.text, [child for child in word.children])"
   ]
  },
  {
   "cell_type": "code",
   "execution_count": 23,
   "id": "4d2a4ef9",
   "metadata": {
    "scrolled": true
   },
   "outputs": [
    {
     "data": {
      "text/plain": [
       "\"Selon l'OMS, la visite du Dr Sambo est liée à l'éruption de choléra au Zimbabwe et à ses implications régionales, étant donné que l'Afrique du Sud et le Botswana ont signalé des cas de choléra.\""
      ]
     },
     "execution_count": 23,
     "metadata": {},
     "output_type": "execute_result"
    }
   ],
   "source": [
    "dictSentences.get(3)"
   ]
  },
  {
   "cell_type": "code",
   "execution_count": 24,
   "id": "dcdff967",
   "metadata": {},
   "outputs": [],
   "source": [
    "import numpy as np\n",
    "import string\n",
    "\n",
    "np.random.seed(1234)"
   ]
  },
  {
   "cell_type": "code",
   "execution_count": 54,
   "id": "6f17e394",
   "metadata": {},
   "outputs": [],
   "source": [
    "initial = {} # start of a phrase\n",
    "first_order = {} # second word only\n",
    "second_order = {}"
   ]
  },
  {
   "cell_type": "code",
   "execution_count": 55,
   "id": "d6485737",
   "metadata": {},
   "outputs": [],
   "source": [
    "def remove_punctuation(s):\n",
    "    return s.translate(str.maketrans('','',string.punctuation))"
   ]
  },
  {
   "cell_type": "code",
   "execution_count": 56,
   "id": "2d804195",
   "metadata": {},
   "outputs": [],
   "source": [
    "def add2dict(d, k, v):\n",
    "    if k not in d:\n",
    "        d[k] = []\n",
    "    d[k].append(v)\n",
    "\n",
    "# [cat, cat, dog, dog, dog, dog, dog, mouse, ...]"
   ]
  },
  {
   "cell_type": "code",
   "execution_count": 57,
   "id": "f5021919",
   "metadata": {
    "scrolled": true
   },
   "outputs": [],
   "source": [
    "for line in dictSentences.values():\n",
    "    tokens = remove_punctuation(line.rstrip().lower()).split()\n",
    "\n",
    "    T = len(tokens)\n",
    "    for i in range(T):\n",
    "        t = tokens[i]\n",
    "        if i == 0:\n",
    "            # measure the distribution of the first word\n",
    "            initial[t] = initial.get(t, 0.) + 1\n",
    "        else:\n",
    "            t_1 = tokens[i-1]\n",
    "            if i == T - 1:\n",
    "                # measure probability of ending the line\n",
    "                add2dict(first_order, t_1, t)\n",
    "            if i == 1:\n",
    "                # measure distribution of second word\n",
    "                # given only first word\n",
    "                add2dict(first_order, t_1, t)\n",
    "            else:\n",
    "                add2dict(first_order, t_1, t)"
   ]
  },
  {
   "cell_type": "code",
   "execution_count": null,
   "id": "05775cf4",
   "metadata": {},
   "outputs": [],
   "source": [
    "for line in dictSentences.values():\n",
    "    tokens = remove_punctuation(line.rstrip().lower()).split()\n",
    "\n",
    "    T = len(tokens)\n",
    "    for i in range(T):\n",
    "        t = tokens[i]\n",
    "        if i == 0:\n",
    "            # measure the distribution of the first word\n",
    "            initial[t] = initial.get(t, 0.) + 1\n",
    "        else:\n",
    "            t_1 = tokens[i-1]\n",
    "            if i == T - 1:\n",
    "                # measure probability of ending the line\n",
    "                add2dict(second_order, (t_1, t), 'END')\n",
    "            if i == 1:\n",
    "                # measure distribution of second word\n",
    "                # given only first word\n",
    "                add2dict(first_order, t_1, t)\n",
    "            else:\n",
    "                t_2 = tokens[i-2]\n",
    "                add2dict(second_order, (t_2, t_1), t)"
   ]
  },
  {
   "cell_type": "code",
   "execution_count": 60,
   "id": "8a08e526",
   "metadata": {},
   "outputs": [],
   "source": [
    "# normalize the distributions\n",
    "initial_total = sum(initial.values())\n",
    "for t, c in initial.items():\n",
    "    initial[t] = c / initial_total"
   ]
  },
  {
   "cell_type": "code",
   "execution_count": 61,
   "id": "05581a5e",
   "metadata": {},
   "outputs": [],
   "source": [
    "# convert [cat, cat, cat, dog, dog, dog, dog, mouse, ...]\n",
    "# into {cat: 0.5, dog: 0.4, mouse: 0.1}\n",
    "\n",
    "def list2pdict(ts):\n",
    "    # turn each list of possibilities into a dictionary of probabilities\n",
    "    d = {}\n",
    "    n = len(ts)\n",
    "    for t in ts:\n",
    "        d[t] = d.get(t, 0.) + 1\n",
    "    for t, c in d.items():\n",
    "        d[t] = c / n\n",
    "    return d"
   ]
  },
  {
   "cell_type": "code",
   "execution_count": 62,
   "id": "f48cd0f3",
   "metadata": {},
   "outputs": [],
   "source": [
    "for t_1, ts in first_order.items():\n",
    "  # replace list with dictionary of probabilities\n",
    "  first_order[t_1] = list2pdict(ts)\n",
    "    \n",
    "for k, ts in second_order.items():\n",
    "    second_order[k] = list2pdict(ts)"
   ]
  },
  {
   "cell_type": "code",
   "execution_count": 36,
   "id": "a95263c8",
   "metadata": {},
   "outputs": [],
   "source": [
    "def sample_word(d):\n",
    "  # print \"d:\", d\n",
    "    p0 = np.random.random()\n",
    "    # print \"p0:\", p0\n",
    "    cumulative = 0\n",
    "    for t, p in d.items():\n",
    "        cumulative += p\n",
    "        if p0 < cumulative:\n",
    "            return t\n",
    "    assert(False) # should never get here"
   ]
  },
  {
   "cell_type": "code",
   "execution_count": 40,
   "id": "1009eafb",
   "metadata": {},
   "outputs": [],
   "source": [
    "def generate():\n",
    "    for i in range(4): # generate 4 lines\n",
    "        sentence = []\n",
    "\n",
    "        # initial word\n",
    "        w0 = sample_word(initial)\n",
    "        sentence.append(w0)\n",
    "\n",
    "        # sample second word\n",
    "        w1 = sample_word(first_order[w0])\n",
    "        sentence.append(w1)\n",
    "\n",
    "        # second-order transitions until END\n",
    "        while True:\n",
    "            w2 = sample_word(second_order[(w0, w1)])\n",
    "            if w2 == 'END':\n",
    "                break\n",
    "            sentence.append(w2)\n",
    "            w0 = w1\n",
    "            w1 = w2\n",
    "        print(' '.join(sentence))\n",
    "        print()"
   ]
  },
  {
   "cell_type": "code",
   "execution_count": 47,
   "id": "215a0a13",
   "metadata": {},
   "outputs": [],
   "source": [
    "sentence=remove_punctuation(dictSentences.get(3)).lower().split()"
   ]
  },
  {
   "cell_type": "code",
   "execution_count": 88,
   "id": "506d79fe",
   "metadata": {},
   "outputs": [],
   "source": [
    "def sample_frequence(d, w_1):\n",
    "    return d.get(w_1)\n",
    "    for t, p in d.items():\n",
    "        cumulative += p\n",
    "        if p0 < cumulative:\n",
    "            return t\n",
    "    assert(False) # should never get here"
   ]
  },
  {
   "cell_type": "code",
   "execution_count": 52,
   "id": "0f9a40a9",
   "metadata": {},
   "outputs": [
    {
     "data": {
      "text/plain": [
       "{('selon', 'loms'): 1.0,\n",
       " ('selon', 'loms', 'la'): 1.0,\n",
       " ('loms', 'la', 'visite'): 1.0,\n",
       " ('la', 'visite', 'du'): 1.0,\n",
       " ('visite', 'du', 'dr'): 1.0,\n",
       " ('du', 'dr', 'sambo'): 1.0,\n",
       " ('dr', 'sambo', 'est'): 0.6666666666666666,\n",
       " ('sambo', 'est', 'liée'): 0.5,\n",
       " ('est', 'liée', 'à'): 1.0,\n",
       " ('liée', 'à', 'léruption'): 1.0,\n",
       " ('à', 'léruption', 'de'): 1.0,\n",
       " ('léruption', 'de', 'choléra'): 1.0,\n",
       " ('de', 'choléra', 'au'): 0.25,\n",
       " ('choléra', 'au', 'zimbabwe'): 1.0,\n",
       " ('au', 'zimbabwe', 'et'): 0.5,\n",
       " ('zimbabwe', 'et', 'à'): 1.0,\n",
       " ('et', 'à', 'ses'): 1.0,\n",
       " ('à', 'ses', 'implications'): 1.0,\n",
       " ('ses', 'implications', 'régionales'): 1.0,\n",
       " ('implications', 'régionales', 'étant'): 1.0,\n",
       " ('régionales', 'étant', 'donné'): 1.0,\n",
       " ('étant', 'donné', 'que'): 1.0,\n",
       " ('donné', 'que', 'lafrique'): 1.0,\n",
       " ('que', 'lafrique', 'du'): 1.0,\n",
       " ('lafrique', 'du', 'sud'): 1.0,\n",
       " ('du', 'sud', 'et'): 1.0,\n",
       " ('sud', 'et', 'le'): 1.0,\n",
       " ('et', 'le', 'botswana'): 1.0,\n",
       " ('le', 'botswana', 'ont'): 0.5,\n",
       " ('botswana', 'ont', 'signalé'): 1.0,\n",
       " ('ont', 'signalé', 'des'): 1.0,\n",
       " ('signalé', 'des', 'cas'): 1.0,\n",
       " ('des', 'cas', 'de'): 1.0,\n",
       " ('cas', 'de', 'choléra'): 1.0}"
      ]
     },
     "execution_count": 52,
     "metadata": {},
     "output_type": "execute_result"
    }
   ],
   "source": [
    "dSent = {}\n",
    "for i in range(len(sentence)):\n",
    "    if i == 1:\n",
    "        dSent[(sentence[i-1],sentence[i])] = first_order[sentence[i-1]].get(sentence[i])\n",
    "    elif i > 1:\n",
    "        dSent[(sentence[i-2], sentence[i-1], sentence[i])] = second_order[(sentence[i-2],sentence[i-1])].get(sentence[i])\n",
    "dSent"
   ]
  },
  {
   "cell_type": "code",
   "execution_count": 64,
   "id": "5ecb4481",
   "metadata": {},
   "outputs": [
    {
     "data": {
      "text/plain": [
       "{('selon', 'loms'): 0.5,\n",
       " ('loms', 'la'): 0.25,\n",
       " ('la', 'visite'): 0.2857142857142857,\n",
       " ('visite', 'du'): 0.6666666666666666,\n",
       " ('du', 'dr'): 0.3333333333333333,\n",
       " ('dr', 'sambo'): 0.75,\n",
       " ('sambo', 'est'): 0.5,\n",
       " ('est', 'liée'): 0.5,\n",
       " ('liée', 'à'): 1.0,\n",
       " ('à', 'léruption'): 0.1111111111111111,\n",
       " ('léruption', 'de'): 0.5,\n",
       " ('de', 'choléra'): 0.2777777777777778,\n",
       " ('choléra', 'au'): 0.14285714285714285,\n",
       " ('au', 'zimbabwe'): 0.5,\n",
       " ('zimbabwe', 'et'): 0.3333333333333333,\n",
       " ('et', 'à'): 0.1111111111111111,\n",
       " ('à', 'ses'): 0.1111111111111111,\n",
       " ('ses', 'implications'): 1.0,\n",
       " ('implications', 'régionales'): 1.0,\n",
       " ('régionales', 'étant'): 1.0,\n",
       " ('étant', 'donné'): 1.0,\n",
       " ('donné', 'que'): 1.0,\n",
       " ('que', 'lafrique'): 0.2,\n",
       " ('lafrique', 'du'): 0.5,\n",
       " ('du', 'sud'): 0.16666666666666666,\n",
       " ('sud', 'et'): 1.0,\n",
       " ('et', 'le'): 0.1111111111111111,\n",
       " ('le', 'botswana'): 0.18181818181818182,\n",
       " ('botswana', 'ont'): 0.5,\n",
       " ('ont', 'signalé'): 0.3333333333333333,\n",
       " ('signalé', 'des'): 1.0,\n",
       " ('des', 'cas'): 0.16666666666666666,\n",
       " ('cas', 'de'): 0.6}"
      ]
     },
     "execution_count": 64,
     "metadata": {},
     "output_type": "execute_result"
    }
   ],
   "source": [
    "dSent = {}\n",
    "for i in range(len(sentence)):\n",
    "    if i > 0:\n",
    "        dSent[(sentence[i-1],sentence[i])] = first_order[sentence[i-1]].get(sentence[i])\n",
    "dSent"
   ]
  },
  {
   "cell_type": "code",
   "execution_count": 87,
   "id": "4db2169b",
   "metadata": {},
   "outputs": [],
   "source": [
    "x=np.mean(list(dSent.values()))"
   ]
  },
  {
   "cell_type": "code",
   "execution_count": 92,
   "id": "69ba44b6",
   "metadata": {},
   "outputs": [
    {
     "name": "stdout",
     "output_type": "stream",
     "text": [
      "('selon', 'loms') \t\t -------\n",
      "('loms', 'la') \t\t -------\n",
      "('la', 'visite') \t\t -------\n",
      "('visite', 'du')\n",
      "('du', 'dr') \t\t -------\n",
      "('dr', 'sambo')\n",
      "('sambo', 'est') \t\t -------\n",
      "('est', 'liée') \t\t -------\n",
      "('liée', 'à')\n",
      "('à', 'léruption') \t\t -------\n",
      "('léruption', 'de') \t\t -------\n",
      "('de', 'choléra') \t\t -------\n",
      "('choléra', 'au') \t\t -------\n",
      "('au', 'zimbabwe') \t\t -------\n",
      "('zimbabwe', 'et') \t\t -------\n",
      "('et', 'à') \t\t -------\n",
      "('à', 'ses') \t\t -------\n",
      "('ses', 'implications')\n",
      "('implications', 'régionales')\n",
      "('régionales', 'étant')\n",
      "('étant', 'donné')\n",
      "('donné', 'que')\n",
      "('que', 'lafrique') \t\t -------\n",
      "('lafrique', 'du') \t\t -------\n",
      "('du', 'sud') \t\t -------\n",
      "('sud', 'et')\n",
      "('et', 'le') \t\t -------\n",
      "('le', 'botswana') \t\t -------\n",
      "('botswana', 'ont') \t\t -------\n",
      "('ont', 'signalé') \t\t -------\n",
      "('signalé', 'des')\n",
      "('des', 'cas') \t\t -------\n",
      "('cas', 'de')\n"
     ]
    }
   ],
   "source": [
    "for k, v in dSent.items():\n",
    "    if v < x: print(k,\"\\t\\t -------\")\n",
    "    else : print(k)"
   ]
  },
  {
   "cell_type": "code",
   "execution_count": 121,
   "id": "41f7a8cc",
   "metadata": {},
   "outputs": [],
   "source": [
    "#bigramme > media\n",
    "vMean = ['S']\n",
    "for element in sent :\n",
    "    if element[1] >= media: \n",
    "        for el in element[0]:\n",
    "            for k , v in word2idx.items():\n",
    "                if el == v and v is not vMean[-1]:\n",
    "                    vMean.append(v)\n",
    "                    #print(k, end=\", \\t\\t\\t\")\n",
    "                    break\n",
    "        #print(element[1])"
   ]
  },
  {
   "cell_type": "code",
   "execution_count": 122,
   "id": "6b66f437",
   "metadata": {},
   "outputs": [
    {
     "data": {
      "text/plain": [
       "['S', 13, 26, 31, 16, 19, 51, 10, 32, 22, 23, 5, 64, 68, 10, 32]"
      ]
     },
     "execution_count": 122,
     "metadata": {},
     "output_type": "execute_result"
    }
   ],
   "source": [
    "vMean"
   ]
  },
  {
   "cell_type": "code",
   "execution_count": 111,
   "id": "6798a804",
   "metadata": {},
   "outputs": [],
   "source": [
    "vMost =['S']\n",
    "#bigramme1 > bigramme2\n",
    "for i in range(0,len(sent)-1,2):\n",
    "    if sent[i][1] >= sent[i+1][1]:\n",
    "        bigramme = sent[i][0]\n",
    "    else:\n",
    "        bigramme = sent[i+1][0]\n",
    "    for el in bigramme:\n",
    "        for k , v in word2idx.items():\n",
    "            if el == v and k not in vMost[-1]:\n",
    "                vMost.append(k)\n",
    "                #print(k+\"\\t\", end=\", \\t\\t\")\n",
    "                break\n",
    "    #print()"
   ]
  },
  {
   "cell_type": "code",
   "execution_count": 118,
   "id": "29ea84a8",
   "metadata": {},
   "outputs": [],
   "source": [
    "vGen =['S']\n",
    "#bigramme1 > bigramme2\n",
    "for i in range(0,len(sent)-1,2):\n",
    "    if sent[i][1] >= sent[i+1][1] and sent[i][1] > media:\n",
    "        bigramme = sent[i][0]\n",
    "    elif sent[i][1] < sent[i+1][1] and sent[i+1][1] > media:\n",
    "        bigramme = sent[i+1][0]\n",
    "    else:\n",
    "        bigramme = []\n",
    "    for el in bigramme:\n",
    "        for k , v in word2idx.items():\n",
    "            if el == v and k not in vGen[-1]:\n",
    "                vGen.append(k)\n",
    "                #print(k+\"\\t\", end=\", \\t\\t\")\n",
    "                break\n",
    "    #print()"
   ]
  },
  {
   "cell_type": "code",
   "execution_count": 133,
   "id": "94e44149",
   "metadata": {},
   "outputs": [
    {
     "name": "stdout",
     "output_type": "stream",
     "text": [
      "selon loms la visite du dr sambo est liée à léruption de choléra au zimbabwe et à ses "
     ]
    }
   ],
   "source": [
    "notOK=0\n",
    "for i in text_int[3]:\n",
    "    if i in vMean:\n",
    "        notOK =0\n",
    "    else:\n",
    "        notOK +=1\n",
    "    \n",
    "    if notOK >=4: break\n",
    "    else:\n",
    "        for k , v in word2idx.items():\n",
    "            if i == v :\n",
    "                print(k, end=\" \")\n",
    "                break\n",
    "                \n",
    "    \n"
   ]
  },
  {
   "cell_type": "code",
   "execution_count": 124,
   "id": "a56d5925",
   "metadata": {},
   "outputs": [
    {
     "data": {
      "text/plain": [
       "[36,\n",
       " 55,\n",
       " 13,\n",
       " 26,\n",
       " 31,\n",
       " 16,\n",
       " 19,\n",
       " 51,\n",
       " 56,\n",
       " 54,\n",
       " 30,\n",
       " 10,\n",
       " 32,\n",
       " 22,\n",
       " 23,\n",
       " 28,\n",
       " 54,\n",
       " 57,\n",
       " 58,\n",
       " 59,\n",
       " 60,\n",
       " 61,\n",
       " 62,\n",
       " 9,\n",
       " 31,\n",
       " 63,\n",
       " 28,\n",
       " 5,\n",
       " 64,\n",
       " 65,\n",
       " 66,\n",
       " 67,\n",
       " 68,\n",
       " 10,\n",
       " 32]"
      ]
     },
     "execution_count": 124,
     "metadata": {},
     "output_type": "execute_result"
    }
   ],
   "source": [
    "text_int[3]"
   ]
  }
 ],
 "metadata": {
  "kernelspec": {
   "display_name": "Python 3 (ipykernel)",
   "language": "python",
   "name": "python3"
  },
  "language_info": {
   "codemirror_mode": {
    "name": "ipython",
    "version": 3
   },
   "file_extension": ".py",
   "mimetype": "text/x-python",
   "name": "python",
   "nbconvert_exporter": "python",
   "pygments_lexer": "ipython3",
   "version": "3.9.18"
  }
 },
 "nbformat": 4,
 "nbformat_minor": 5
}
